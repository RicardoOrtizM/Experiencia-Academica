{
  "cells": [
    {
      "cell_type": "markdown",
      "metadata": {
        "id": "Z-Y8szgry-Sl"
      },
      "source": [
        "# Tarea 2. Práctica\n",
        "## Realizado por: ROM"
      ]
    },
    {
      "cell_type": "markdown",
      "metadata": {
        "id": "ZLIWBO3bZ3u_"
      },
      "source": [
        "## 1. Métodos para resolver ecuaciones no lineales"
      ]
    },
    {
      "cell_type": "markdown",
      "metadata": {
        "id": "QDlvm9W6AlZN"
      },
      "source": [
        "Seleciona dos métodos de la siguiente lista y realiza el código correspondiente.\n",
        "Cada código debe de mostrar las tablas de errores, 50 iteraciones y la tolerancia es de 4 decimales. La función a resolver es: \"x^3 + 4*(x^2) - 10\" en el intervalo [0, 1]\n",
        "\n",
        "(a) Método de la Falsa Posición.\n",
        "\n",
        "(b) Método de Newton Modificado.\n",
        "\n",
        "(c) Método de Punto Fijo.\n",
        "\n",
        "(d) Método de la Secante."
      ]
    },
    {
      "cell_type": "markdown",
      "metadata": {
        "id": "zOjZ2sTbZ-JC"
      },
      "source": [
        "### Librerías a utilizar"
      ]
    },
    {
      "cell_type": "code",
      "execution_count": 1,
      "metadata": {
        "id": "_NMU5tJkaCqM"
      },
      "outputs": [],
      "source": [
        "# Nos ayuda a hacer matemáticas simbólicas\n",
        "# Por ejemplo, para sacar derivadas o sustituir valores en una función previamente definida\n",
        "import sympy as sp\n",
        "\n",
        "# Nos ayuda a utilizar matrices y varias de sus operaciones\n",
        "import numpy as np\n",
        "\n",
        "# Nos ayuda a imprimir tablas ordenadas\n",
        "import tabulate as tb\n",
        "\n",
        "from logging import log\n",
        "from math import exp"
      ]
    },
    {
      "cell_type": "markdown",
      "metadata": {
        "id": "XxN8dVqVaI0A"
      },
      "source": [
        "### (a) Método de la Falsa Posición."
      ]
    },
    {
      "cell_type": "code",
      "execution_count": 2,
      "metadata": {
        "id": "5AzGtxuNavhL"
      },
      "outputs": [],
      "source": [
        "def metodo_falsa_posicion(f, a, b, tol):\n",
        "  # f: Función a resolver\n",
        "  # a: Límite inferior del intervalo [a, b]\n",
        "  # b: Límite superior del intervalo [a, b]\n",
        "  # tol: Tolerancia\n",
        "\n",
        "  # Tabla (matriz) con las 50 iteraciones o menos, y los errores entre cada iteración\n",
        "  tabla_iteraciones = np.array([\"Iteración\", \"a\", \"f(a)\", \"b\", \"f(b)\",\"x_i\", \"f(x_i)\", \"Error Absoluto\", \"Error Relativo\"])\n",
        "  iteracion = []\n",
        "\n",
        "  # Número iteración\n",
        "  i = 1\n",
        "\n",
        "  # Para ver si nos salimos del bucle antes de las 50 iteraciones\n",
        "  continuar = True\n",
        "\n",
        "  # Mientras el número de iteraciones sea menor o igual a 50\n",
        "  # y mientras el error sea mayor a la tolerancia\n",
        "  while (i<=50 and continuar):\n",
        "    # Evaluamos la función f en a y b\n",
        "    fa = f(a)\n",
        "    #print(\"f(a): \", fa)\n",
        "\n",
        "    fb = f(b)\n",
        "    #print(\"f(b): \", fb)\n",
        "\n",
        "    #### CRITERIO DE CAMBIO DE SIGNO ####\n",
        "    if(fa * fb < 0):\n",
        "      # Si existe un cambio de signo entre f(a) y f(b) realizamos el método\n",
        "\n",
        "      # Calculamos el valor de c_i\n",
        "      c_i = a - fa * ((b - a) / (fb - fa))\n",
        "      c_i = float(c_i)\n",
        "      #print(\"c_i: \", c_i)\n",
        "\n",
        "      # Evaluamos la función en c_i\n",
        "      fc = f(c_i) # f(c_i)\n",
        "      #print(\"f(c): \", fc)\n",
        "\n",
        "      error_absoluto = 1\n",
        "      error_relativo = 1\n",
        "\n",
        "      # Calculamos el error absoluto y el relativo\n",
        "      if(i == 1):\n",
        "        iteracion = [i, a, fa, b, fb, c_i, fc, None, None]\n",
        "      else:\n",
        "        c_i_ant = tabla_iteraciones[i-1][5]\n",
        "        #print(\"c_i_ant: \", c_i_ant)\n",
        "\n",
        "        error_absoluto = abs(c_i - c_i_ant)\n",
        "        #print(\"Error Absoluto: \", error_absoluto)\n",
        "        error_relativo = (c_i - c_i_ant) / c_i\n",
        "\n",
        "        iteracion = [i, a, fa, b, fb, c_i, fc, error_absoluto, error_relativo]\n",
        "\n",
        "      # Si el error absoluto es menor o igual a la tolerancia, nos detenemos\n",
        "      if(error_absoluto <= tol):\n",
        "        print(\"\\nRaíz encontrada con la tolerancia deseada.\")\n",
        "        continuar = False\n",
        "\n",
        "      # Agregamos la nueva iteración a una nueva fila en la tabla de errores\n",
        "      tabla_iteraciones = np.vstack((tabla_iteraciones, iteracion))\n",
        "\n",
        "      #### CRITERIO PARA CONTINUAR ITERACIONES ####\n",
        "      if(fc == 0):\n",
        "        # Si f(c) es igual a cero, nos detenemos\n",
        "        print(\"\\nRaíz encontrada.\")\n",
        "        continuar = False\n",
        "      elif(fa * fc < 0):\n",
        "        # Si f(a) * f(c) es menor a cero, existe cambio de signo entre ellos\n",
        "        b = c_i\n",
        "      elif(fb * fc < 0):\n",
        "        # Si f(b) * f(c) es menor a cero, existe cambio de signo entre ellos\n",
        "        a = c_i\n",
        "\n",
        "    else:\n",
        "      # Si no existe un cambio de signo entre f(a) y f(b) nos detenemos\n",
        "      continuar = False\n",
        "      print(\"\\nNo existe un cambio de signo entre f(a) y f(b).\")\n",
        "      iteracion = [i, a, fa, b, fb, None, None, None, None]\n",
        "\n",
        "    # Agregamos la nueva iteración a una nueva fila en la tabla de errores\n",
        "      tabla_iteraciones = np.vstack((tabla_iteraciones, iteracion))\n",
        "\n",
        "    # Aumentamos en 1 el número de la iteración\n",
        "    i +=1\n",
        "\n",
        "  # Una vez salimos del while, regresamos la tabla de errores\n",
        "  return tabla_iteraciones\n"
      ]
    },
    {
      "cell_type": "markdown",
      "metadata": {
        "id": "ZlAPQjMA1q3K"
      },
      "source": [
        "### (d) Método de la Secante"
      ]
    },
    {
      "cell_type": "code",
      "execution_count": 3,
      "metadata": {
        "id": "sSgIjU4Y16il"
      },
      "outputs": [],
      "source": [
        "def metodo_secante(f, a, b, tol):\n",
        "  # f: Función a resolver\n",
        "  # a: Límite inferior del intervalo [a, b]\n",
        "  # b: Límite superior del intervalo [a, b]\n",
        "  # tol: Tolerancia\n",
        "\n",
        "  # Tabla (matriz) con las 50 iteraciones o menos, y los errores entre cada iteración\n",
        "  tabla_iteraciones = np.array([\"Iteración\", \"x_i\", \"f(x_i)\", \"Error Absoluto\", \"Error Relativo\"])\n",
        "  iteracion = []\n",
        "\n",
        "  # x_0\n",
        "  iteracion = [0, a, f(a), None, None]\n",
        "  tabla_iteraciones = np.vstack((tabla_iteraciones, iteracion))\n",
        "\n",
        "  # x_1\n",
        "  error_absoluto = abs(b - a)\n",
        "  error_relativo = (b - a) / b\n",
        "  iteracion = [1, b, f(b), error_absoluto, error_relativo]\n",
        "  tabla_iteraciones = np.vstack((tabla_iteraciones, iteracion))\n",
        "\n",
        "  # Número iteración\n",
        "  i = 2\n",
        "\n",
        "  # Para ver si nos salimos del bucle antes de las 50 iteraciones\n",
        "  continuar = True\n",
        "\n",
        "  # Mientras el número de iteraciones sea menor o igual a 50\n",
        "  # y mientras el error sea mayor a la tolerancia\n",
        "  while (i<=50 and continuar):\n",
        "    # Evaluamos la función f en a y b\n",
        "    fa = f(a)\n",
        "    #print(\"f(a): \", fa)\n",
        "\n",
        "    fb = f(b)\n",
        "    #print(\"f(b): \", fb)\n",
        "\n",
        "    # Calculamos el valor de c_i\n",
        "    c_i = a - fa * ((b - a) / (fb - fa))\n",
        "    c_i = float(c_i)\n",
        "    #print(\"c_i: \", c_i)\n",
        "\n",
        "    # Evaluamos la función en c_i\n",
        "    fc = f(c_i) # f(c_i)\n",
        "    #print(\"f(c): \", fc)\n",
        "\n",
        "    # Error Absoluto\n",
        "    error_absoluto = abs(c_i - b)\n",
        "    #print(\"Error Absoluto: \", error_absoluto)\n",
        "\n",
        "    # Error Relativo\n",
        "    error_relativo = (c_i - b) / c_i\n",
        "\n",
        "    iteracion = [i, c_i, fc, error_absoluto, error_relativo]\n",
        "\n",
        "    # Si el error absoluto es menor o igual a la tolerancia, nos detenemos\n",
        "    if(error_absoluto <= tol):\n",
        "      print(\"\\nRaíz encontrada con la tolerancia deseada.\")\n",
        "      continuar = False\n",
        "\n",
        "    # Agregamos la nueva iteración a una nueva fila en la tabla de errores\n",
        "    tabla_iteraciones = np.vstack((tabla_iteraciones, iteracion))\n",
        "\n",
        "    #### CRITERIO PARA CONTINUAR ITERACIONES ####\n",
        "    if(fc == 0):\n",
        "      # Si f(c) es igual a cero, nos detenemos\n",
        "      print(\"\\nRaíz encontrada.\")\n",
        "      continuar = False\n",
        "    else:\n",
        "      a = b\n",
        "      b = c_i\n",
        "\n",
        "    # Aumentamos en 1 el número de la iteración\n",
        "    i +=1\n",
        "\n",
        "  # Una vez salimos del while, regresamos la tabla de errores\n",
        "  return tabla_iteraciones"
      ]
    },
    {
      "cell_type": "markdown",
      "metadata": {
        "id": "DWUp67b6kFRm"
      },
      "source": [
        "### Ejemplo"
      ]
    },
    {
      "cell_type": "markdown",
      "metadata": {
        "id": "nKIovqF77gyJ"
      },
      "source": [
        "#### Definimos las ecuaciones no lineales como funciones"
      ]
    },
    {
      "cell_type": "code",
      "execution_count": 4,
      "metadata": {
        "id": "7IzqkSyA0W9a"
      },
      "outputs": [],
      "source": [
        "def funcion(x):\n",
        "  f_x = x**3 + 4*(x**2) - 10\n",
        "  f_x = float(f_x)\n",
        "  return f_x"
      ]
    },
    {
      "cell_type": "markdown",
      "metadata": {
        "id": "b5LEKJVm7rLY"
      },
      "source": [
        "#### Resolvemos las ecauciones no lineales por ambos métodos, mostrando la tabla de errores"
      ]
    },
    {
      "cell_type": "code",
      "execution_count": 5,
      "metadata": {
        "colab": {
          "base_uri": "https://localhost:8080/"
        },
        "id": "zRBFP1A_kIyx",
        "outputId": "2aebc0e0-5b62-460e-8353-d873eecdb781"
      },
      "outputs": [
        {
          "name": "stdout",
          "output_type": "stream",
          "text": [
            "\t #### EJEMPLO DE LA TAREA ####\n",
            "\n",
            "Función:  x**3 + 4*(x**2) - 10\n",
            "Tolerancia:  0.0001\n",
            "Intervalo: [ 0 ,  2 ]\n",
            "\n",
            "\tMétodo Falsa Posición:\n",
            "\n",
            "Raíz encontrada con la tolerancia deseada.\n",
            "╒═══════════╤════════════════════╤════════════════════════╤═════╤══════╤════════════════════╤════════════════════════╤═══════════════════════╤════════════════════════╕\n",
            "│ Iteración │ a                  │ f(a)                   │ b   │ f(b) │ x_i                │ f(x_i)                 │ Error Absoluto        │ Error Relativo         │\n",
            "├───────────┼────────────────────┼────────────────────────┼─────┼──────┼────────────────────┼────────────────────────┼───────────────────────┼────────────────────────┤\n",
            "│ 1         │ 0                  │ -10.0                  │ 2   │ 14.0 │ 0.8333333333333333 │ -6.643518518518519     │                       │                        │\n",
            "├───────────┼────────────────────┼────────────────────────┼─────┼──────┼────────────────────┼────────────────────────┼───────────────────────┼────────────────────────┤\n",
            "│ 2.0       │ 0.8333333333333333 │ -6.643518518518519     │ 2.0 │ 14.0 │ 1.2087912087912087 │ -2.3890383255194276    │ 0.37545787545787546   │ 0.3106060606060606     │\n",
            "├───────────┼────────────────────┼────────────────────────┼─────┼──────┼────────────────────┼────────────────────────┼───────────────────────┼────────────────────────┤\n",
            "│ 3.0       │ 1.2087912087912087 │ -2.3890383255194276    │ 2.0 │ 14.0 │ 1.32412611057995   │ -0.6651566794894492    │ 0.11533490178874128   │ 0.08710265651224572    │\n",
            "├───────────┼────────────────────┼────────────────────────┼─────┼──────┼────────────────────┼────────────────────────┼───────────────────────┼────────────────────────┤\n",
            "│ 4.0       │ 1.32412611057995   │ -0.6651566794894492    │ 2.0 │ 14.0 │ 1.3547812233663694 │ -0.17166231580847935   │ 0.030655112786419414  │ 0.022627352857937745   │\n",
            "├───────────┼────────────────────┼────────────────────────┼─────┼──────┼────────────────────┼────────────────────────┼───────────────────────┼────────────────────────┤\n",
            "│ 5.0       │ 1.3547812233663694 │ -0.17166231580847935   │ 2.0 │ 14.0 │ 1.3625968025787312 │ -0.043427145743551776  │ 0.007815579212361756  │ 0.005735797410922055   │\n",
            "├───────────┼────────────────────┼────────────────────────┼─────┼──────┼────────────────────┼────────────────────────┼───────────────────────┼────────────────────────┤\n",
            "│ 6.0       │ 1.3625968025787312 │ -0.043427145743551776  │ 2.0 │ 14.0 │ 1.364567874259778  │ -0.010930619010046883  │ 0.001971071681046821  │ 0.0014444658402324225  │\n",
            "├───────────┼────────────────────┼────────────────────────┼─────┼──────┼────────────────────┼────────────────────────┼───────────────────────┼────────────────────────┤\n",
            "│ 7.0       │ 1.364567874259778  │ -0.010930619010046883  │ 2.0 │ 14.0 │ 1.365063606246616  │ -0.0027477237897599593 │ 0.000495731986837944  │ 0.0003631566943616719  │\n",
            "├───────────┼────────────────────┼────────────────────────┼─────┼──────┼────────────────────┼────────────────────────┼───────────────────────┼────────────────────────┤\n",
            "│ 8.0       │ 1.365063606246616  │ -0.0027477237897599593 │ 2.0 │ 14.0 │ 1.365188198210173  │ -0.0006904969945029649 │ 0.0001245919635570747 │ 9.126358088974158e-05  │\n",
            "├───────────┼────────────────────┼────────────────────────┼─────┼──────┼────────────────────┼────────────────────────┼───────────────────────┼────────────────────────┤\n",
            "│ 9.0       │ 1.365188198210173  │ -0.0006904969945029649 │ 2.0 │ 14.0 │ 1.3652195063546753 │ -0.0001735063715937457 │ 3.130814450225117e-05 │ 2.2932681782322493e-05 │\n",
            "╘═══════════╧════════════════════╧════════════════════════╧═════╧══════╧════════════════════╧════════════════════════╧═══════════════════════╧════════════════════════╛\n",
            "\n",
            "\tMétodo de la Secante:\n",
            "\n",
            "Raíz encontrada con la tolerancia deseada.\n",
            "╒═══════════╤════════════════════╤═════════════════════════╤════════════════════════╤═════════════════════════╕\n",
            "│ Iteración │ x_i                │ f(x_i)                  │ Error Absoluto         │ Error Relativo          │\n",
            "├───────────┼────────────────────┼─────────────────────────┼────────────────────────┼─────────────────────────┤\n",
            "│ 0         │ 0                  │ -10.0                   │                        │                         │\n",
            "├───────────┼────────────────────┼─────────────────────────┼────────────────────────┼─────────────────────────┤\n",
            "│ 1.0       │ 2.0                │ 14.0                    │ 2.0                    │ 1.0                     │\n",
            "├───────────┼────────────────────┼─────────────────────────┼────────────────────────┼─────────────────────────┤\n",
            "│ 2.0       │ 0.8333333333333333 │ -6.643518518518519      │ 1.1666666666666667     │ -1.4000000000000001     │\n",
            "├───────────┼────────────────────┼─────────────────────────┼────────────────────────┼─────────────────────────┤\n",
            "│ 3.0       │ 1.2087912087912087 │ -2.3890383255194276     │ 0.37545787545787546    │ 0.3106060606060606      │\n",
            "├───────────┼────────────────────┼─────────────────────────┼────────────────────────┼─────────────────────────┤\n",
            "│ 4.0       │ 1.4196238401342773 │ 0.922340526371416       │ 0.21083263134306862    │ 0.14851302533995675     │\n",
            "├───────────┼────────────────────┼─────────────────────────┼────────────────────────┼─────────────────────────┤\n",
            "│ 5.0       │ 1.360899215478842  │ -0.07136443461920905    │ 0.058724624655435376   │ -0.04315133992841101    │\n",
            "├───────────┼────────────────────┼─────────────────────────┼────────────────────────┼─────────────────────────┤\n",
            "│ 6.0       │ 1.3651166138025683 │ -0.0018725089353814894  │ 0.004217398323726362   │ 0.003089405169554481    │\n",
            "├───────────┼────────────────────┼─────────────────────────┼────────────────────────┼─────────────────────────┤\n",
            "│ 7.0       │ 1.3652302545740325 │ 3.982370728294882e-06   │ 0.00011364077146414076 │ 8.323927123897352e-05   │\n",
            "├───────────┼────────────────────┼─────────────────────────┼────────────────────────┼─────────────────────────┤\n",
            "│ 8.0       │ 1.3652300134006892 │ -2.2140511646284722e-10 │ 2.411733432960972e-07  │ -1.7665400037269314e-07 │\n",
            "╘═══════════╧════════════════════╧═════════════════════════╧════════════════════════╧═════════════════════════╛\n"
          ]
        }
      ],
      "source": [
        "# Ejemplo\n",
        "print(\"\\t #### EJEMPLO DE LA TAREA ####\\n\")\n",
        "\n",
        "# Definimos la función\n",
        "f = \"x**3 + 4*(x**2) - 10\"\n",
        "print(\"Función: \", f)\n",
        "\n",
        "# Decimos de cuanto es la tolerancia\n",
        "tolerancia = 1*(10**(-4))\n",
        "print(\"Tolerancia: \", tolerancia)\n",
        "\n",
        "# Intervalo\n",
        "a = 0\n",
        "b = 2\n",
        "print(\"Intervalo: [\", a, \", \", b, \"]\")\n",
        "\n",
        "# ------------------------------------------------------------------------------\n",
        "#### Método Falsa Posición ####\n",
        "print()\n",
        "print(\"\\tMétodo Falsa Posición:\")\n",
        "\n",
        "# Llamamos al método de la falsa posición\n",
        "metodo1 = metodo_falsa_posicion(funcion, a, b, tolerancia)\n",
        "\n",
        "# Imprime como tabla la información\n",
        "print(tb.tabulate(metodo1, tablefmt=\"fancy_grid\"))\n",
        "\n",
        "# ------------------------------------------------------------------------------\n",
        "#### Método de la Secante ####\n",
        "print()\n",
        "print(\"\\tMétodo de la Secante:\")\n",
        "\n",
        "# Llamamos al método de la falsa posición\n",
        "metodo2 = metodo_secante(funcion, a, b, tolerancia)\n",
        "\n",
        "# Imprime como tabla la información\n",
        "print(tb.tabulate(metodo2, tablefmt=\"fancy_grid\"))"
      ]
    },
    {
      "cell_type": "markdown",
      "metadata": {
        "id": "4W8lo4_QzGoV"
      },
      "source": [
        "## 2. Características de una Matriz"
      ]
    },
    {
      "cell_type": "markdown",
      "metadata": {
        "id": "2mncsqXBzQxd"
      },
      "source": [
        "Cree un código para identificar cuando una matriz A es cuadrada, cuando es invertible, es decir, su determinante es diferente de cero, cuando es simétrica y definida positiva, es decir si todos sus eigenvalores de A son positivos."
      ]
    },
    {
      "cell_type": "markdown",
      "metadata": {
        "id": "CLmz39uX0Zo2"
      },
      "source": [
        "### Librerías a utilizar"
      ]
    },
    {
      "cell_type": "code",
      "execution_count": 6,
      "metadata": {
        "id": "UetNFewYzagR"
      },
      "outputs": [],
      "source": [
        "# Nos ayuda a utilizar matrices y varias de sus operaciones\n",
        "import numpy as np"
      ]
    },
    {
      "cell_type": "markdown",
      "metadata": {
        "id": "43R-2aLn0fKY"
      },
      "source": [
        "### Creamos una función que nos diga algunas características de la matriz"
      ]
    },
    {
      "cell_type": "code",
      "execution_count": 7,
      "metadata": {
        "id": "Rp32pcZV9yoh"
      },
      "outputs": [],
      "source": [
        "def carac_matriz(matriz):\n",
        "\n",
        "  #### TAMAÑO MATRIZ ####\n",
        "  # Te dice cuántas filas tiene la matriz\n",
        "  numfilas = matriz.shape[0]\n",
        "\n",
        "  # Te dice cuántas columnas tiene la matriz\n",
        "  numcolumnas = matriz.shape[1]\n",
        "\n",
        "  # print(\"Filas: \", numfilas)\n",
        "  # print(\"Columnas: \", numcolumnas)\n",
        "\n",
        "  #### ¿ES CUADRADA LA MATRIZ? ####\n",
        "  # ¿El número de filas es igual al número de columnas?\n",
        "  es_cuadrada = (numfilas == numcolumnas)\n",
        "\n",
        "  if(es_cuadrada):\n",
        "    # Si el número de filas es igual al número de columnas\n",
        "    # La matriz si es cuadrada\n",
        "    # print(\"Es Cuadrada: \", es_cuadrada)\n",
        "\n",
        "    #### DETERMINANTE ####\n",
        "    # Te dice el determinante de la matriz\n",
        "    determinante = np.linalg.det(matriz)\n",
        "    # print(\"Determinante: \", determinante)\n",
        "\n",
        "    #### ¿ES INVERTIBLE LA MATRIZ? ####\n",
        "    # ¿El determinante de la matriz es diferente de cero?\n",
        "    es_invertible = (determinante != 0)\n",
        "    # Si el determinante de la matriz es diferente de cero, entonces la matriz es invertible\n",
        "    # Si el determinante de la matriz es igual a cero, entonces la matriz no es invertible\n",
        "    # print(\"Es Invertible: \", es_invertible)\n",
        "\n",
        "    #### ¿ES SIMÉTRICA  LA MATRIZ? ####\n",
        "    # Obtenemos la matriz traspuesta\n",
        "    matriz_traspuesta = matriz.T\n",
        "    print(\"Matriz Transpuesta:\\n\", matriz_traspuesta)\n",
        "\n",
        "    # ¿La matriz es simétrica?\n",
        "    es_simetrica = np.array_equal(matriz, matriz_traspuesta)\n",
        "    # Si la matriz es igual a su traspuesta, entonces la matriz es simétrica\n",
        "    # Si la matriz es igual a su traspuesta, entonces la matriz no es simétrica\n",
        "    # print(\"Es Simétrica: \", es_simetrica)\n",
        "\n",
        "    #### ¿ES DEFINIDA POSITIVA LA MATRIZ? ####\n",
        "    # Una matriz cuadrada A es definida positiva si cumple que:\n",
        "    # 1. A es simétrica\n",
        "    # 2. Si todos sus eigenvalores son positivos.\n",
        "    es_definida_positiva = 0\n",
        "    if(es_simetrica):\n",
        "      # Si la matriz es simétrica, entonces obtenemos sus eigenvalores\n",
        "      eigenvalores = np.linalg.eigvals(matriz)\n",
        "      print(\"\\nEigenvalores: \", eigenvalores)\n",
        "      # ¿Todos los eigenvalores son positivos?\n",
        "      es_definida_positiva = np.all(eigenvalores > 0)\n",
        "      # print(\"Es definida positiva: \", es_definida_positiva)\n",
        "    else:\n",
        "      # Si la matriz no es simétrica, entonces no es definida positiva\n",
        "      eigenvalores = False\n",
        "      # print(\"Eigenvalores: \", eigenvalores)\n",
        "      es_definida_positiva = False\n",
        "      # print(\"Es Definida Positiva: \", es_definida_positiva)\n",
        "\n",
        "    carac = np.array([[\"NúmeroFilas\", \"NúmeroColumnas\", \"EsCuadrada\", \"Determinante\", \"EsInvertible\", \"EsSimétrica\", \"EsDefinidaPositiva\"],\n",
        "                      [numfilas,           numcolumnas,  es_cuadrada,   determinante,  es_invertible,  es_simetrica, es_definida_positiva]])\n",
        "\n",
        "  else:\n",
        "    # Si el número de filas es diferente al número de columnas\n",
        "    # La matriz no es cuadrada\n",
        "    # print(\"Es Cuadrada: \", es_cuadrada)\n",
        "\n",
        "    carac = np.array([[\"NúmeroFilas\", \"NúmeroColumnas\", \"EsCuadrada\"],\n",
        "                      [numfilas,           numcolumnas,  es_cuadrada]])\n",
        "\n",
        "\n",
        "  return carac"
      ]
    },
    {
      "cell_type": "markdown",
      "metadata": {
        "id": "lNNcpX0Y06Aq"
      },
      "source": [
        "### Ejemplos de uso\n"
      ]
    },
    {
      "cell_type": "code",
      "execution_count": 8,
      "metadata": {
        "colab": {
          "base_uri": "https://localhost:8080/"
        },
        "id": "-ih1sLMv1A0t",
        "outputId": "b81cc30b-aef2-4f66-d980-1452777812dc"
      },
      "outputs": [
        {
          "name": "stdout",
          "output_type": "stream",
          "text": [
            "\t #### EJEMPLO DE LA TAREA ####\n",
            "\n",
            "Matriz:\n",
            " [[ 2  0 -1]\n",
            " [ 0  2  1]\n",
            " [-1  1  2]]\n",
            "\n",
            "Matriz Transpuesta:\n",
            " [[ 2  0 -1]\n",
            " [ 0  2  1]\n",
            " [-1  1  2]]\n",
            "\n",
            "Eigenvalores:  [3.41421356 2.         0.58578644]\n",
            "\n",
            "Lo que obtenemos de la función:\n",
            "[['NúmeroFilas' 'NúmeroColumnas' 'EsCuadrada' 'Determinante'\n",
            "  'EsInvertible' 'EsSimétrica' 'EsDefinidaPositiva']\n",
            " ['3' '3' 'True' '4.0' 'True' 'True' 'True']]\n",
            "\n",
            "Características de la matriz:\n",
            "+  NúmeroFilas :  3\n",
            "+  NúmeroColumnas :  3\n",
            "+  EsCuadrada :  True\n",
            "+  Determinante :  4.0\n",
            "+  EsInvertible :  True\n",
            "+  EsSimétrica :  True\n",
            "+  EsDefinidaPositiva :  True\n",
            "\n",
            "--------------------------------------------------------\n",
            "\t #### OTRO EJEMPLO, MATRIZ NO CUADRADA ####\n",
            "\n",
            "Matriz:\n",
            " [[ 2  0 -1]\n",
            " [ 0  2  1]]\n",
            "\n",
            "\n",
            "Lo que obtenemos de la función:\n",
            "[['NúmeroFilas' 'NúmeroColumnas' 'EsCuadrada']\n",
            " ['2' '3' 'False']]\n",
            "\n",
            "Características de la matriz:\n",
            "+  NúmeroFilas :  2\n",
            "+  NúmeroColumnas :  3\n",
            "+  EsCuadrada :  False\n"
          ]
        }
      ],
      "source": [
        "# Ejemplo\n",
        "print(\"\\t #### EJEMPLO DE LA TAREA ####\")\n",
        "\n",
        "matriz = np.array([ [2, 0, -1],\n",
        "                    [0, 2, 1],\n",
        "                    [-1, 1, 2] ])\n",
        "\n",
        "print(\"\\nMatriz:\\n\", matriz)\n",
        "\n",
        "print()\n",
        "carac = carac_matriz(matriz)\n",
        "\n",
        "print()\n",
        "print(\"Lo que obtenemos de la función:\")\n",
        "print(carac)\n",
        "\n",
        "# Columnas en el array \"carac\"\n",
        "col = carac.shape[1]\n",
        "\n",
        "# Imprimimos las características de la matriz\n",
        "print()\n",
        "print(\"Características de la matriz:\")\n",
        "for i in range(col):\n",
        "  print(\"+ \", carac[0, i], \": \", carac[1, i])\n",
        "  # carac[0, i] <- Nombre de la característica\n",
        "  # carac[1, i] <- Valor de la característica\n",
        "\n",
        "print()\n",
        "print(\"--------------------------------------------------------\")\n",
        "\n",
        "print(\"\\t #### OTRO EJEMPLO, MATRIZ NO CUADRADA ####\")\n",
        "matriz1 = np.array([ [2, 0, -1],\n",
        "                    [0, 2, 1] ])\n",
        "\n",
        "print(\"\\nMatriz:\\n\", matriz1)\n",
        "\n",
        "print()\n",
        "carac1 = carac_matriz(matriz1)\n",
        "\n",
        "print()\n",
        "print(\"Lo que obtenemos de la función:\")\n",
        "print(carac1)\n",
        "\n",
        "# Columnas en el array \"carac1\"\n",
        "col1 = carac1.shape[1]\n",
        "\n",
        "# Imprimimos las características de la matriz\n",
        "print()\n",
        "print(\"Características de la matriz:\")\n",
        "for i in range(col1):\n",
        "  print(\"+ \", carac1[0, i], \": \", carac1[1, i])\n",
        "  # carac[0, i] <- Nombre de la característica\n",
        "  # carac[1, i] <- Valor de la característica"
      ]
    }
  ],
  "metadata": {
    "colab": {
      "provenance": []
    },
    "kernelspec": {
      "display_name": "Python 3",
      "name": "python3"
    },
    "language_info": {
      "name": "python"
    }
  },
  "nbformat": 4,
  "nbformat_minor": 0
}
