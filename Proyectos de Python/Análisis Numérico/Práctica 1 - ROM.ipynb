{
  "cells": [
    {
      "cell_type": "markdown",
      "metadata": {
        "id": "krGghyfesg9O"
      },
      "source": [
        "# Tarea 1. Práctica\n",
        "## Realizado por: ROM"
      ]
    },
    {
      "cell_type": "markdown",
      "metadata": {
        "id": "wQzvmvtgs3XI"
      },
      "source": [
        "## 1. Coloca en orden la siguiente lista de palabras, puede ser por medio de una lista o un diccionario.\n"
      ]
    },
    {
      "cell_type": "markdown",
      "metadata": {
        "id": "UP6_GiSIhBvt"
      },
      "source": [
        "### Lista original"
      ]
    },
    {
      "cell_type": "code",
      "execution_count": 1,
      "metadata": {
        "colab": {
          "base_uri": "https://localhost:8080/"
        },
        "id": "juMt3mLmspes",
        "outputId": "56fbcf6b-7624-41cd-ad88-ea495bcb3e7c"
      },
      "outputs": [
        {
          "name": "stdout",
          "output_type": "stream",
          "text": [
            "['Luna', 'Montaña', 'Río', 'Espejo', 'Relámpago', 'Bosque', 'Sombrero', 'Silencio', 'Relato', 'Destino', 'Horizonte', 'Brisa', 'Guitarra', 'Susurro', 'Ébano', 'Marea', 'Laberinto', 'Aurora', 'Océano', 'Centella', 'Murmullo', 'Papiro', 'Fuego', 'Nostalgia', 'Mariposa', 'Reloj', 'Tempestad', 'Neblina', 'Destello', 'Ceniza']\n",
            "\n",
            "Lista original:\n",
            "1 Luna\n",
            "2 Montaña\n",
            "3 Río\n",
            "4 Espejo\n",
            "5 Relámpago\n",
            "6 Bosque\n",
            "7 Sombrero\n",
            "8 Silencio\n",
            "9 Relato\n",
            "10 Destino\n",
            "11 Horizonte\n",
            "12 Brisa\n",
            "13 Guitarra\n",
            "14 Susurro\n",
            "15 Ébano\n",
            "16 Marea\n",
            "17 Laberinto\n",
            "18 Aurora\n",
            "19 Océano\n",
            "20 Centella\n",
            "21 Murmullo\n",
            "22 Papiro\n",
            "23 Fuego\n",
            "24 Nostalgia\n",
            "25 Mariposa\n",
            "26 Reloj\n",
            "27 Tempestad\n",
            "28 Neblina\n",
            "29 Destello\n",
            "30 Ceniza\n"
          ]
        }
      ],
      "source": [
        "# Lista de palabras original del ejercicio 1\n",
        "lista_original = [\"Luna\", \"Montaña\", \"Río\", \"Espejo\", \"Relámpago\",\n",
        "                  \"Bosque\", \"Sombrero\", \"Silencio\", \"Relato\", \"Destino\",\n",
        "                  \"Horizonte\", \"Brisa\", \"Guitarra\", \"Susurro\", \"Ébano\",\n",
        "                  \"Marea\", \"Laberinto\", \"Aurora\", \"Océano\", \"Centella\",\n",
        "                  \"Murmullo\", \"Papiro\", \"Fuego\", \"Nostalgia\", \"Mariposa\",\n",
        "                  \"Reloj\", \"Tempestad\", \"Neblina\", \"Destello\", \"Ceniza\"]\n",
        "print(lista_original)\n",
        "\n",
        "# Imprimimos la lista de palabras original con su índice\n",
        "print(\"\\nLista original:\")\n",
        "for index, i in enumerate(lista_original):\n",
        "    print((index + 1), i)"
      ]
    },
    {
      "cell_type": "markdown",
      "metadata": {
        "id": "YqgXbWLn0wMW"
      },
      "source": [
        "### Establecemos la configuración regional para el español"
      ]
    },
    {
      "cell_type": "code",
      "execution_count": 2,
      "metadata": {
        "colab": {
          "base_uri": "https://localhost:8080/"
        },
        "id": "kfqNz2HE0AJn",
        "outputId": "cdcf617d-3666-4164-ca88-66a24d2815d0"
      },
      "outputs": [
        {
          "name": "stdout",
          "output_type": "stream",
          "text": [
            "Collecting pyuca\n",
            "  Downloading pyuca-1.2-py2.py3-none-any.whl.metadata (649 bytes)\n",
            "Downloading pyuca-1.2-py2.py3-none-any.whl (1.5 MB)\n",
            "\u001b[2K   \u001b[90m━━━━━━━━━━━━━━━━━━━━━━━━━━━━━━━━━━━━━━━━\u001b[0m \u001b[32m1.5/1.5 MB\u001b[0m \u001b[31m13.8 MB/s\u001b[0m eta \u001b[36m0:00:00\u001b[0m\n",
            "\u001b[?25hInstalling collected packages: pyuca\n",
            "Successfully installed pyuca-1.2\n"
          ]
        }
      ],
      "source": [
        "# Establece la configuración regional para el español\n",
        "#locale.setlocale(locale.LC_ALL, 'es_ES.UTF-8')\n",
        "!pip install pyuca\n",
        "import locale\n",
        "from pyuca import Collator"
      ]
    },
    {
      "cell_type": "markdown",
      "metadata": {
        "id": "EgcR536-hJz_"
      },
      "source": [
        "### Lista ordenada"
      ]
    },
    {
      "cell_type": "code",
      "execution_count": 3,
      "metadata": {
        "colab": {
          "base_uri": "https://localhost:8080/"
        },
        "id": "Sy-YFyQshIrC",
        "outputId": "2c61b73e-2b50-4809-9770-3c914a342c77"
      },
      "outputs": [
        {
          "name": "stdout",
          "output_type": "stream",
          "text": [
            "['Aurora', 'Bosque', 'Brisa', 'Ceniza', 'Centella', 'Destello', 'Destino', 'Ébano', 'Espejo', 'Fuego', 'Guitarra', 'Horizonte', 'Laberinto', 'Luna', 'Marea', 'Mariposa', 'Montaña', 'Murmullo', 'Neblina', 'Nostalgia', 'Océano', 'Papiro', 'Relámpago', 'Relato', 'Reloj', 'Río', 'Silencio', 'Sombrero', 'Susurro', 'Tempestad']\n",
            "\n",
            "Lista ordenada:\n",
            "1 Aurora\n",
            "2 Bosque\n",
            "3 Brisa\n",
            "4 Ceniza\n",
            "5 Centella\n",
            "6 Destello\n",
            "7 Destino\n",
            "8 Ébano\n",
            "9 Espejo\n",
            "10 Fuego\n",
            "11 Guitarra\n",
            "12 Horizonte\n",
            "13 Laberinto\n",
            "14 Luna\n",
            "15 Marea\n",
            "16 Mariposa\n",
            "17 Montaña\n",
            "18 Murmullo\n",
            "19 Neblina\n",
            "20 Nostalgia\n",
            "21 Océano\n",
            "22 Papiro\n",
            "23 Relámpago\n",
            "24 Relato\n",
            "25 Reloj\n",
            "26 Río\n",
            "27 Silencio\n",
            "28 Sombrero\n",
            "29 Susurro\n",
            "30 Tempestad\n"
          ]
        }
      ],
      "source": [
        "# Creamos una nueva lista donde vamos a guardar la lista original, para luego ordenarla\n",
        "# lista_ordenada = lista_original\n",
        "\n",
        "# Crea un objeto Unicode Collation Algorithm (UCA)\n",
        "collator = Collator()\n",
        "\n",
        "# Ordenamos la lista alfabéticamente considerando acentos\n",
        "lista_ordenada = sorted(lista_original, key=collator.sort_key)\n",
        "print(lista_ordenada)\n",
        "\n",
        "# Imprimimos la lista de palabras ordenada con su índice\n",
        "print(\"\\nLista ordenada:\")\n",
        "for index, i in enumerate(lista_ordenada):\n",
        "    print((index + 1), i)"
      ]
    },
    {
      "cell_type": "markdown",
      "metadata": {
        "id": "un4TieEDhRU5"
      },
      "source": [
        "### Preguntas del ejercicio"
      ]
    },
    {
      "cell_type": "code",
      "execution_count": 4,
      "metadata": {
        "colab": {
          "base_uri": "https://localhost:8080/"
        },
        "id": "axpTDJeG4zZ0",
        "outputId": "8ae3b40f-d20d-48f5-d141-be84fa07e1b2"
      },
      "outputs": [
        {
          "name": "stdout",
          "output_type": "stream",
          "text": [
            "(a) ¿En que posición se encuentra la palabra \"Murmullo\"?\n",
            "Se encuentra en la posición:  18\n",
            "\n",
            "(b) ¿Cuál es la palabra que se encuentra posición 17?\n",
            "La palabra que se encuentra en la posición 17 es:  Montaña\n"
          ]
        }
      ],
      "source": [
        "print(\"(a) ¿En que posición se encuentra la palabra \\\"Murmullo\\\"?\")\n",
        "posicion_Murmullo = lista_ordenada.index(\"Murmullo\") # Nos da el índice de su primera aparición\n",
        "posicion_Murmullo += 1 # Nos da la posición en la lista de palabras, se le suma 1 porque los indices cuentan a partir del 0\n",
        "print(\"Se encuentra en la posición: \", posicion_Murmullo)\n",
        "\n",
        "print()\n",
        "print(\"(b) ¿Cuál es la palabra que se encuentra posición 17?\")\n",
        "num_posicion = 17\n",
        "indice_palabra_posicion = num_posicion -1 # Se le resta 1 porque los indices cuentan a partir del 0\n",
        "palabra_posicion_n = lista_ordenada[indice_palabra_posicion]\n",
        "print(\"La palabra que se encuentra en la posición 17 es: \", palabra_posicion_n)"
      ]
    },
    {
      "cell_type": "markdown",
      "metadata": {
        "id": "V47bUfRJguEB"
      },
      "source": [
        "### Código para buscar la posición de una palabra o la palabra en una posición cualquiera:"
      ]
    },
    {
      "cell_type": "code",
      "execution_count": 5,
      "metadata": {
        "colab": {
          "base_uri": "https://localhost:8080/"
        },
        "id": "QFdDvmID7-1B",
        "outputId": "4f804ca1-3104-4abc-e1d7-0079112b3154"
      },
      "outputs": [
        {
          "name": "stdout",
          "output_type": "stream",
          "text": [
            "(a) ¿En que posición se encuentra la palabra Luna\n",
            "Se encuentra en la posición:  14\n",
            "\n",
            "(b) ¿Cuál es la palabra que se encuentra posición 14\n",
            "La palabra que se encuentra en la posición  14  es:  Luna\n"
          ]
        }
      ],
      "source": [
        "### Código para hacerlo para cualquier palabra y posición:\n",
        "\n",
        "palabra = input(\"(a) ¿En que posición se encuentra la palabra \")\n",
        "posicion_palabra = lista_ordenada.index(palabra) # Nos da el índice de su primera aparición\n",
        "posicion_palabra += 1 # Nos da la posición en la lista de palabras, se le suma 1 porque los indices cuentan a partir del 0\n",
        "print(\"Se encuentra en la posición: \", posicion_palabra)\n",
        "\n",
        "print()\n",
        "posicion = input(\"(b) ¿Cuál es la palabra que se encuentra posición \")\n",
        "posicion = int(posicion)\n",
        "indice_palabra_posicion = posicion -1 # Se le resta 1 porque los indices cuentan a partir del 0\n",
        "palabra_posicion_n = lista_ordenada[indice_palabra_posicion]\n",
        "print(\"La palabra que se encuentra en la posición \", posicion, \" es: \", palabra_posicion_n)"
      ]
    },
    {
      "cell_type": "markdown",
      "metadata": {
        "id": "rp8KMQKoB-k9"
      },
      "source": [
        "## 2. Crea un código para el Sistema de Punto Flotante, hazlo para el formato compuesto."
      ]
    },
    {
      "cell_type": "markdown",
      "metadata": {
        "id": "meTYSkSL020u"
      },
      "source": [
        "### Creamos una función para pasar de decimal a binario"
      ]
    },
    {
      "cell_type": "code",
      "execution_count": 10,
      "metadata": {
        "id": "SMXNJHOv02Ky"
      },
      "outputs": [],
      "source": [
        "def dec_a_bin(numero):\n",
        "  enteros=int(numero)\n",
        "  bin_entero=0\n",
        "  mult=1\n",
        "#primero trabajamos con la parte entera del número\n",
        "  while enteros !=0:\n",
        "    bin_entero=bin_entero + enteros %2 * mult\n",
        "    enteros=enteros//2\n",
        "    mult *=10\n",
        "  fracc=numero-int(numero)\n",
        "  bin_fracc=[]\n",
        "#ahora trabajammos con la parte fraccionaria del número\n",
        "  while (fracc!=0 or len(str(bin_fracc))==52):\n",
        "    producto=fracc*2\n",
        "    bin_fracc.append(int(producto))\n",
        "    fracc=producto-int(producto)\n",
        "  bin_fracc=float('.'+(''.join([str(n) for n in bin_fracc])))\n",
        "\n",
        "  # Unimos la parte entera y decimal del número convertido a binario\n",
        "  binario = bin_entero + bin_fracc\n",
        "  return binario"
      ]
    },
    {
      "cell_type": "markdown",
      "metadata": {
        "id": "P_cVq9NdjIlD"
      },
      "source": [
        "### Creamos una función que pase un número binario al Sistema de Punto Flotante Compuesto"
      ]
    },
    {
      "cell_type": "code",
      "execution_count": 11,
      "metadata": {
        "id": "KDm4kAkUi7H5"
      },
      "outputs": [],
      "source": [
        "# Creamos una función que pase un binario al sistema de punto flotante compuesto\n",
        "def sistema_de_punto_flotante_compuesto(num_bin):\n",
        "  print(\"\\n\\tProcedimiento\")\n",
        "\n",
        "  # Nos aseguramos que el parámetro sea un str\n",
        "  num_bin = str(num_bin)\n",
        "  print(\"Número binario: \", num_bin)\n",
        "  print(type(num_bin))\n",
        "\n",
        "  # Si num_bin NO tiene parte decimal se lo agregamos con un \".0\" para que no haya problemas en el código\n",
        "  if(\".\" not in num_bin):\n",
        "    num_bin += \".0\"\n",
        "\n",
        "  # Creamos una lista donde vamos ir agregando los elementos del sistema de punto flotante compuesto\n",
        "  spfc = [] # Siglas de: sistema de punto flotante compuesto\n",
        "\n",
        "  ## Obtenemos el signo de num_bin\n",
        "  print(\"\\n1. Obtenemos el signo del número binario\")\n",
        "\n",
        "  # Si tiene signo \"-\" lo eliminamos de la variable num_bin para que no haya problemas en el código\n",
        "  if(\"-\" in num_bin):\n",
        "    signo = \"-\"\n",
        "    num_bin = num_bin.replace(\"-\", \"\")\n",
        "    spfc.append(1) # Se pone 1 si es el signo es negativo\n",
        "\n",
        "  # Si tiene signo \"+\" lo eliminamos de la variable num_bin para que no haya problemas en el código\n",
        "  elif(\"+\" in num_bin):\n",
        "    signo = \"+\"\n",
        "    num_bin = num_bin.replace(\"+\", \"\")\n",
        "    spfc.append(0) # Se pone 0 si es el signo es positivo\n",
        "\n",
        "  # Si NO tiene signo dejamos la variable num_bin tal cual y consideramos el signo como \"+\"\n",
        "  else:\n",
        "    signo = \"+\"\n",
        "    spfc.append(0) # Se pone 0 si es el signo es positivo\n",
        "\n",
        "  print(\"Signo: \\\"\", signo, \"\\\"\")\n",
        "  print(\"Número binario sin signo: \", num_bin)\n",
        "\n",
        "  ## Obtenemos el exponente y mantisa de num_bin\n",
        "  print(\"\\n2. Obtenemos el exponente y mantisa del número binario\")\n",
        "\n",
        "  print(\"Número binario sin signo: \", num_bin)\n",
        "\n",
        "  # Posición del punto en el número, empezamos a contar desde el 0\n",
        "  posicion_punto = num_bin.index(\".\")\n",
        "  print(\"Posición punto: \", posicion_punto)\n",
        "\n",
        "  # Posición del primer 1 en el número, empezamos a contar desde el 0\n",
        "  posicion_primer_uno = num_bin.index(\"1\")\n",
        "  print(\"Posición primera aparición del 1 (uno): \", posicion_primer_uno)\n",
        "\n",
        "  # Cuantos lugares se tiene que mover el punto para estar a la derecha del primer 1\n",
        "  mov_punto = posicion_punto - posicion_primer_uno\n",
        "  if(posicion_punto > posicion_primer_uno):\n",
        "    mov_punto -= 1\n",
        "  print(\"El punto se tuvo que mover n lugares para estar a la derecha del primer 1: n = \", mov_punto)\n",
        "\n",
        "  # Obtenemos la Normalización y la Mantisa\n",
        "  inicio_mantisa = posicion_primer_uno + 1 # El siguiente número del primer 1\n",
        "  mantisa = num_bin[inicio_mantisa:] # Todos los números a la derecha del primer 1\n",
        "  mantisa = mantisa.replace(\".\", \"\") # Eliminamos el punto, si es que aparece\n",
        "  normalizacion = \"1.\" + mantisa\n",
        "  print(\"Normalización: \", normalizacion)\n",
        "  print(\"Mantisa: \", mantisa)\n",
        "\n",
        "  # Cuánto vale el sesgo\n",
        "  capacidad_exponente = 11\n",
        "  sesgo = (2 ** (capacidad_exponente - 1)) - 1\n",
        "  print(\"Sesgo Exponencial: \", sesgo)\n",
        "\n",
        "  # Cálculo del exponente\n",
        "  exponente = sesgo + mov_punto\n",
        "  print(\"Exponente en decimal = Sesgo + n = \", sesgo, \" + \", mov_punto, \" = \", exponente)\n",
        "  exponente_bin = bin(exponente)\n",
        "  print(\"Exponente en binario: \", exponente_bin)\n",
        "  # Le quitamos el 0b\n",
        "  exponente_bin = exponente_bin.replace(\"0b\", \"\")\n",
        "  # Le quitamos el signo \"-\", si es que tiene\n",
        "  exponente_bin = exponente_bin.replace(\"-\", \"\")\n",
        "  print(\"Exponente en binario: \", exponente_bin)\n",
        "\n",
        "  ## Agregamos el exponente al Sistema de Punto Flotante Compuesto\n",
        "  print(\"\\n3. Agregamos el exponente al Sistema de Punto Flotante Compuesto\")\n",
        "\n",
        "  print(\"Exponente en binario: \", exponente_bin)\n",
        "  print(type(exponente_bin))\n",
        "\n",
        "  # Lugares que debe ocupar el exponente en el Sistema de Punto Flotante Compuesto\n",
        "  tamaño_exponente_spfc = 11\n",
        "  print(\"Bits que debe ocupar el exponente: \", tamaño_exponente_spfc)\n",
        "\n",
        "  # Tamaño de exponente_bin\n",
        "  exponente_bin = str(exponente_bin) # Por si acaso\n",
        "  tamaño_exponente_bin = len(exponente_bin)\n",
        "  print(\"Tamaño exponente: \", tamaño_exponente_bin)\n",
        "\n",
        "  # Lista donde vamos a guardar el exponente\n",
        "  l_exponente_bin = []\n",
        "\n",
        "  # Si el Tamaño de exponente_bin es igual a 11 (Lugares que debe ocupar el exponente en el Sistema de Punto Flotante Compuesto)\n",
        "  if(tamaño_exponente_bin == tamaño_exponente_spfc):\n",
        "    # Rellenamos l_exponente_bin\n",
        "    for i in range(0, tamaño_exponente_bin):\n",
        "      agregar = exponente_bin[i]\n",
        "      agregar = int(agregar)\n",
        "      l_exponente_bin.append(agregar)\n",
        "\n",
        "  # Si el Tamaño de exponente_bin es menor a 11 (Lugares que debe ocupar el exponente en el Sistema de Punto Flotante Compuesto)\n",
        "  elif(tamaño_exponente_bin < tamaño_exponente_spfc):\n",
        "    # Lugares que faltan rellenar para llenar los 11 lugares del exponente\n",
        "    diferencia = tamaño_exponente_spfc - tamaño_exponente_bin\n",
        "\n",
        "    # Llenamos los lugares que faltan con 0's a la izquierda del exponente_bin para completar los 11 lugares\n",
        "    for i in range(0, diferencia):\n",
        "      l_exponente_bin.append(0)\n",
        "\n",
        "    # Rellenamos l_exponente_bin\n",
        "    for i in range(0, tamaño_exponente_bin):\n",
        "      agregar = exponente_bin[i]\n",
        "      agregar = int(agregar)\n",
        "      l_exponente_bin.append(agregar)\n",
        "\n",
        "  # Unimos l_exponente_bin a spfc\n",
        "  spfc.extend(l_exponente_bin)\n",
        "\n",
        "  ## Agregamos la mantisa al Sistema de Punto Flotante Compuesto\n",
        "  print(\"\\n3. Agregamos la mantisa al Sistema de Punto Flotante Compuesto\")\n",
        "\n",
        "  print(\"Mantisa: \", mantisa)\n",
        "  print(type(mantisa))\n",
        "\n",
        "  # Lugares que debe ocupar la mantisa en el Sistema de Punto Flotante Compuesto\n",
        "  tamaño_mantisa_spfc = 52\n",
        "  print(\"Bits que debe ocupar la mantisa: \", tamaño_mantisa_spfc)\n",
        "\n",
        "  # Tamaño de la mantisa\n",
        "  mantisa = str(mantisa) # Por si acaso\n",
        "  tamaño_mantisa = len(mantisa)\n",
        "  print(\"Tamaño mantisa: \", tamaño_mantisa)\n",
        "\n",
        "  # Lista donde vamos a guardar la mantisa\n",
        "  l_mantisa = []\n",
        "\n",
        "  # Si el Tamaño de mantisa es igual a 52 (Lugares que debe ocupar la mantisa en el Sistema de Punto Flotante Compuesto)\n",
        "  if(tamaño_mantisa == tamaño_mantisa_spfc):\n",
        "    # Rellenamos l_mantisa\n",
        "    for i in range(0, tamaño_mantisa):\n",
        "      agregar = mantisa[i]\n",
        "      agregar = int(agregar)\n",
        "      l_mantisa.append(agregar)\n",
        "\n",
        "  # Si el Tamaño de mantisa es menor a 52 (Lugares que debe ocupar la mantisa en el Sistema de Punto Flotante Compuesto)\n",
        "  elif(tamaño_mantisa < tamaño_mantisa_spfc):\n",
        "    # Lugares que faltan rellenar para llenar los 52 lugares del exponente\n",
        "    diferencia = tamaño_mantisa_spfc - tamaño_mantisa\n",
        "\n",
        "    # Rellenamos l_mantisa\n",
        "    for i in range(0, tamaño_mantisa):\n",
        "      agregar = mantisa[i]\n",
        "      agregar = int(agregar)\n",
        "      l_mantisa.append(agregar)\n",
        "\n",
        "    # Llenamos los lugares que faltan con 0's a la derecha de la mantisa para completar los 52 lugares\n",
        "    for i in range(0, diferencia):\n",
        "      l_mantisa.append(0)\n",
        "\n",
        "  # Unimos l_mantisa a spfc\n",
        "  spfc.extend(l_mantisa)\n",
        "\n",
        "\n",
        "  return(spfc)"
      ]
    },
    {
      "cell_type": "markdown",
      "metadata": {
        "id": "t14qCcVhnjPS"
      },
      "source": [
        "### Código donde pedimos al usuario un número decimal y lo pasamos al Sistema de Punto Flotante Compuesto"
      ]
    },
    {
      "cell_type": "code",
      "execution_count": 13,
      "metadata": {
        "colab": {
          "base_uri": "https://localhost:8080/"
        },
        "id": "yW9O9jlcniVm",
        "outputId": "99f1b26c-c3ec-4afa-c7c3-8ef5701b29c5"
      },
      "outputs": [
        {
          "name": "stdout",
          "output_type": "stream",
          "text": [
            "Dame el número en decimal y lo pasaré al Sistema de Punto Flotante Compuesto: 17.125\n",
            "El número en binario:  10001.001\n",
            "\n",
            "\tProcedimiento\n",
            "Número binario:  10001.001\n",
            "<class 'str'>\n",
            "\n",
            "1. Obtenemos el signo del número binario\n",
            "Signo: \" + \"\n",
            "Número binario sin signo:  10001.001\n",
            "\n",
            "2. Obtenemos el exponente y mantisa del número binario\n",
            "Número binario sin signo:  10001.001\n",
            "Posición punto:  5\n",
            "Posición primera aparición del 1 (uno):  0\n",
            "El punto se tuvo que mover n lugares para estar a la derecha del primer 1: n =  4\n",
            "Normalización:  1.0001001\n",
            "Mantisa:  0001001\n",
            "Sesgo Exponencial:  1023\n",
            "Exponente en decimal = Sesgo + n =  1023  +  4  =  1027\n",
            "Exponente en binario:  0b10000000011\n",
            "Exponente en binario:  10000000011\n",
            "\n",
            "3. Agregamos el exponente al Sistema de Punto Flotante Compuesto\n",
            "Exponente en binario:  10000000011\n",
            "<class 'str'>\n",
            "Bits que debe ocupar el exponente:  11\n",
            "Tamaño exponente:  11\n",
            "\n",
            "3. Agregamos la mantisa al Sistema de Punto Flotante Compuesto\n",
            "Mantisa:  0001001\n",
            "<class 'str'>\n",
            "Bits que debe ocupar la mantisa:  52\n",
            "Tamaño mantisa:  7\n",
            "\n",
            "\tResultado\n",
            "El binario  10001.001  en el Sistema de Punto Flotante Compuesto es: \n",
            "[0, 1, 0, 0, 0, 0, 0, 0, 0, 0, 1, 1, 0, 0, 0, 1, 0, 0, 1, 0, 0, 0, 0, 0, 0, 0, 0, 0, 0, 0, 0, 0, 0, 0, 0, 0, 0, 0, 0, 0, 0, 0, 0, 0, 0, 0, 0, 0, 0, 0, 0, 0, 0, 0, 0, 0, 0, 0, 0, 0, 0, 0, 0, 0]\n",
            "Tamaño de nuestro Sistema de Punto Flotante Compuesto:  64\n"
          ]
        }
      ],
      "source": [
        "# Código donde pedimos al usuario un número binario y lo pasamos al Sistema de Punto Flotante Compuesto\n",
        "num_dec = input(\"Dame el número en decimal y lo pasaré al Sistema de Punto Flotante Compuesto: \")\n",
        "num_dec = float(num_dec) # lo pasamos a flotante\n",
        "num_binario = dec_a_bin(num_dec) # lo convertimos a binario\n",
        "print(\"El número en binario: \", num_binario)\n",
        "num_spfc = sistema_de_punto_flotante_compuesto(num_binario)\n",
        "print(\"\\n\\tResultado\")\n",
        "print(\"El binario \", num_binario, \" en el Sistema de Punto Flotante Compuesto es: \")\n",
        "print(num_spfc)\n",
        "tamaños_spfc = len(num_spfc)\n",
        "print(\"Tamaño de nuestro Sistema de Punto Flotante Compuesto: \", tamaños_spfc)\n"
      ]
    },
    {
      "cell_type": "markdown",
      "metadata": {
        "id": "Qj5axOUhLarz"
      },
      "source": [
        "## 3. En clase vimos como crear un código para convertir un número decimal a binario. ¿Cuál sería el código para pasar de binario a decimal?"
      ]
    },
    {
      "cell_type": "markdown",
      "metadata": {
        "id": "aljKHhlAf-Ob"
      },
      "source": [
        "### Creamos una función que pase los número binarios a decimal:"
      ]
    },
    {
      "cell_type": "code",
      "execution_count": null,
      "metadata": {
        "id": "2r7AoynvLxWm"
      },
      "outputs": [],
      "source": [
        "# Creamos una función que pase los número binarios a decimal\n",
        "def bin_a_dec (num_bin):\n",
        "  print(\"\\n\\tProcedimiento\")\n",
        "\n",
        "  # Nos aseguramos que el parámetro sea un str\n",
        "  num_bin = str(num_bin)\n",
        "  print(type(num_bin))\n",
        "\n",
        "  # Si num_bin NO tiene parte decimal se lo agregamos con un \".0\" para que no haya problemas en el código\n",
        "  if(\".\" not in num_bin):\n",
        "    num_bin += \".0\"\n",
        "\n",
        "  ## Obtenemos la parte entera y decimal del binario\n",
        "  print(\"\\n1. Obtenemos la parte entera y decimal del binario: \", num_bin)\n",
        "\n",
        "  # Posición del punto en el número, empezamos a contar desde el 0\n",
        "  posicion_punto = num_bin.index(\".\")\n",
        "  print(\"Posición punto: \", posicion_punto)\n",
        "\n",
        "  # Solo la parte entera del número\n",
        "  parte_entera_bin = num_bin[:posicion_punto]\n",
        "  print(\"Parte entera binaria: \", parte_entera_bin)\n",
        "\n",
        "  # Solo la parte decimal del número\n",
        "  parte_decimal_bin = num_bin[posicion_punto+1:]\n",
        "  print(\"Parte decimal binaria: \", parte_decimal_bin)\n",
        "\n",
        "  ## Obtenemos el signo del número binario\n",
        "  print(\"\\n2. Obtenemos el signo del número binario\")\n",
        "\n",
        "  # Si tiene signo \"-\" lo eliminamos de la variable con la parte entera del binario para que no haya problemas en el código\n",
        "  if(\"-\" in parte_entera_bin):\n",
        "    signo = \"-\"\n",
        "    parte_entera_bin = parte_entera_bin.replace(\"-\", \"\")\n",
        "\n",
        "  # Si tiene signo \"+\" lo eliminamos de la variable con la parte entera del binario para que no haya problemas en el código\n",
        "  elif(\"+\" in parte_entera_bin):\n",
        "    signo = \"+\"\n",
        "    parte_entera_bin = parte_entera_bin.replace(\"+\", \"\")\n",
        "\n",
        "  # Si NO tiene signo lo dejamos tal cual\n",
        "  else:\n",
        "    signo = \"+\"\n",
        "\n",
        "  print(\"Signo: \\\"\", signo, \"\\\"\")\n",
        "  print(\"Parte entera binaria sin signo: \", parte_entera_bin)\n",
        "\n",
        "  ## Convertimos la parte entera del binario a decimal:\n",
        "  print(\"\\n3. Convertimos la parte entera del binario a decimal\")\n",
        "\n",
        "  print(\"Parte entera binaria: \", parte_entera_bin)\n",
        "\n",
        "  # Tamaños del str de la parte entera del número\n",
        "  tamaño_parte_entera_bin = len(parte_entera_bin)\n",
        "  print(\"Tamaño parte entera binaria: \", tamaño_parte_entera_bin)\n",
        "  tope1 = tamaño_parte_entera_bin\n",
        "\n",
        "  parte_entera_dec = 0\n",
        "  for i in range(0, tope1):\n",
        "    potencia = tope1 - (1 + i)\n",
        "    num = int(parte_entera_bin[i])\n",
        "    parte_entera_dec += (num * (2 ** potencia))\n",
        "  print(\"Parte entera en decimal: \", parte_entera_dec)\n",
        "\n",
        "  ## Convertimos la parte decimal del binario a decimal:\n",
        "  print(\"\\n4. Convertimos la parte decimal del binario a decimal\")\n",
        "\n",
        "  print(\"Parte decimal binaria: \", parte_decimal_bin)\n",
        "\n",
        "  # Tamaños del str de la parte decimal del número\n",
        "  tamaño_parte_dec_bin = len(parte_decimal_bin)\n",
        "  print(\"Tamaño parte decimal binaria: \", tamaño_parte_dec_bin)\n",
        "  tope2 = tamaño_parte_dec_bin\n",
        "\n",
        "  parte_decimal_dec = 0\n",
        "  for i in range(0, tope2):\n",
        "    potencia = - (1 + i)\n",
        "    num = int(parte_decimal_bin[i])\n",
        "    parte_decimal_dec += (num * (2 ** potencia))\n",
        "  print(\"Parte decimal en decimal: \", parte_decimal_dec)\n",
        "\n",
        "  ## Unimos la parte entera y decimal del número decimal\n",
        "  num_dec = parte_entera_dec + parte_decimal_dec\n",
        "\n",
        "  # Si el signo es negativo lo agregamos\n",
        "  if(signo == \"-\"):\n",
        "    num_dec *= (-1)\n",
        "\n",
        "  return(num_dec)"
      ]
    },
    {
      "cell_type": "markdown",
      "metadata": {
        "id": "Hr71001ZgOkG"
      },
      "source": [
        "### Código donde pedimos al usuario un número binario y lo convertimos a decimal usando la función"
      ]
    },
    {
      "cell_type": "code",
      "execution_count": null,
      "metadata": {
        "colab": {
          "base_uri": "https://localhost:8080/"
        },
        "id": "9Re1JAZFT9DY",
        "outputId": "a3cf1325-28f5-436a-baee-07dee30b3f7d"
      },
      "outputs": [
        {
          "name": "stdout",
          "output_type": "stream",
          "text": [
            "Dame el número en binario y lo convertiré a decimal: -110.11\n",
            "\n",
            "\tProcedimiento\n",
            "<class 'str'>\n",
            "\n",
            "1. Obtenemos la parte entera y decimal del binario:  -110.11\n",
            "Posición punto:  4\n",
            "Parte entera binaria:  -110\n",
            "Parte decimal binaria:  11\n",
            "\n",
            "2. Obtenemos el signo del número binario\n",
            "Signo: \" - \"\n",
            "Parte entera binaria sin signo:  110\n",
            "\n",
            "3. Convertimos la parte entera del binario a decimal\n",
            "Parte entera binaria:  110\n",
            "Tamaño parte entera binaria:  3\n",
            "Parte entera en decimal:  6\n",
            "\n",
            "4. Convertimos la parte decimal del binario a decimal\n",
            "Parte decimal binaria:  11\n",
            "Tamaño parte decimal binaria:  2\n",
            "Parte decimal en decimal:  0.75\n",
            "\n",
            "\tResultado\n",
            "El binario  -110.11  en decimal es  -6.75\n"
          ]
        }
      ],
      "source": [
        "# Código donde pedimos al usuario un número binario y lo convertimos a decimal usando la función creada previamente\n",
        "num_binario = input(\"Dame el número en binario y lo convertiré a decimal: \")\n",
        "num_decimal = bin_a_dec(num_binario)\n",
        "print(\"\\n\\tResultado\")\n",
        "print(\"El binario \", num_binario, \" en decimal es \", num_decimal)"
      ]
    }
  ],
  "metadata": {
    "colab": {
      "collapsed_sections": [
        "wQzvmvtgs3XI",
        "YqgXbWLn0wMW",
        "rp8KMQKoB-k9",
        "meTYSkSL020u",
        "P_cVq9NdjIlD",
        "t14qCcVhnjPS",
        "Qj5axOUhLarz",
        "aljKHhlAf-Ob",
        "Hr71001ZgOkG"
      ],
      "provenance": []
    },
    "kernelspec": {
      "display_name": "Python 3",
      "name": "python3"
    },
    "language_info": {
      "name": "python"
    }
  },
  "nbformat": 4,
  "nbformat_minor": 0
}
